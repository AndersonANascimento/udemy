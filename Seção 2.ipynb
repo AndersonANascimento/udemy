{
 "cells": [
  {
   "cell_type": "markdown",
   "metadata": {},
   "source": [
    "# Aprendendo python - Variáveis"
   ]
  },
  {
   "cell_type": "code",
   "execution_count": 2,
   "metadata": {},
   "outputs": [
    {
     "name": "stdout",
     "output_type": "stream",
     "text": [
      "10\n"
     ]
    },
    {
     "data": {
      "text/plain": [
       "int"
      ]
     },
     "execution_count": 2,
     "metadata": {},
     "output_type": "execute_result"
    }
   ],
   "source": [
    "idade = 10\n",
    "print(idade)\n",
    "type(idade)"
   ]
  },
  {
   "cell_type": "code",
   "execution_count": 3,
   "metadata": {},
   "outputs": [
    {
     "name": "stdout",
     "output_type": "stream",
     "text": [
      "3.14\n"
     ]
    },
    {
     "data": {
      "text/plain": [
       "float"
      ]
     },
     "execution_count": 3,
     "metadata": {},
     "output_type": "execute_result"
    }
   ],
   "source": [
    "var_pi = 3.14\n",
    "print(var_pi)\n",
    "type(var_pi)"
   ]
  },
  {
   "cell_type": "code",
   "execution_count": 4,
   "metadata": {},
   "outputs": [
    {
     "name": "stdout",
     "output_type": "stream",
     "text": [
      "True\n"
     ]
    },
    {
     "data": {
      "text/plain": [
       "bool"
      ]
     },
     "execution_count": 4,
     "metadata": {},
     "output_type": "execute_result"
    }
   ],
   "source": [
    "aprovado = True\n",
    "print(aprovado)\n",
    "type(aprovado)"
   ]
  },
  {
   "cell_type": "markdown",
   "metadata": {},
   "source": [
    "# Aprendendo python - Operadores"
   ]
  },
  {
   "cell_type": "code",
   "execution_count": 5,
   "metadata": {},
   "outputs": [
    {
     "name": "stdout",
     "output_type": "stream",
     "text": [
      "False\n",
      "True\n",
      "False\n",
      "True\n",
      "False\n",
      "True\n"
     ]
    }
   ],
   "source": [
    "n1 = 10\n",
    "n2 = 20\n",
    "print(n1 > n2)\n",
    "print(n1 < n2)\n",
    "print(n1 == n2)\n",
    "print(n1 != n2)\n",
    "print(n1 >= n2)\n",
    "print(n1 <= n2)"
   ]
  },
  {
   "cell_type": "code",
   "execution_count": 6,
   "metadata": {},
   "outputs": [
    {
     "name": "stdout",
     "output_type": "stream",
     "text": [
      "False\n"
     ]
    }
   ],
   "source": [
    "media_aluno = 6.5\n",
    "media_aprovado = 7\n",
    "resultado = media_aluno >= media_aprovado\n",
    "print(resultado)"
   ]
  },
  {
   "cell_type": "code",
   "execution_count": 7,
   "metadata": {},
   "outputs": [
    {
     "name": "stdout",
     "output_type": "stream",
     "text": [
      "30\n",
      "-10\n",
      "200\n",
      "2.0\n",
      "2\n",
      "0\n"
     ]
    }
   ],
   "source": [
    "v1 = 10\n",
    "v2 = 20\n",
    "print(v1 + v2)\n",
    "print(v1 - v2)\n",
    "print(v1 * v2)\n",
    "print(v2 / v1)\n",
    "print(v2 // v1)\n",
    "print(v2 % v1)"
   ]
  },
  {
   "cell_type": "code",
   "execution_count": 8,
   "metadata": {},
   "outputs": [
    {
     "name": "stdout",
     "output_type": "stream",
     "text": [
      "1024\n"
     ]
    }
   ],
   "source": [
    "base = 2\n",
    "exp = 10\n",
    "resultado = base ** exp\n",
    "print(resultado)"
   ]
  },
  {
   "cell_type": "markdown",
   "metadata": {},
   "source": [
    "# Aprendendo python - Strings"
   ]
  },
  {
   "cell_type": "code",
   "execution_count": 9,
   "metadata": {
    "scrolled": true
   },
   "outputs": [
    {
     "name": "stdout",
     "output_type": "stream",
     "text": [
      "Anderson\n",
      "A\n",
      "8\n",
      "n\n",
      "And\n",
      "s\n"
     ]
    },
    {
     "data": {
      "text/plain": [
       "str"
      ]
     },
     "execution_count": 9,
     "metadata": {},
     "output_type": "execute_result"
    }
   ],
   "source": [
    "nome = \"Anderson\"\n",
    "print(nome)\n",
    "print(nome[0])\n",
    "print(len(nome))\n",
    "print(nome[-1])\n",
    "# print(nome[10])\n",
    "print(nome[0:3])\n",
    "print(nome[-3])\n",
    "type(nome)"
   ]
  },
  {
   "cell_type": "code",
   "execution_count": 10,
   "metadata": {},
   "outputs": [
    {
     "name": "stdout",
     "output_type": "stream",
     "text": [
      "Help on built-in function len in module builtins:\n",
      "\n",
      "len(obj, /)\n",
      "    Return the number of items in a container.\n",
      "\n"
     ]
    }
   ],
   "source": [
    "help(len)"
   ]
  },
  {
   "cell_type": "code",
   "execution_count": 11,
   "metadata": {},
   "outputs": [
    {
     "name": "stdout",
     "output_type": "stream",
     "text": [
      "Anderson Nascimento\n"
     ]
    }
   ],
   "source": [
    "nome = 'Anderson '\n",
    "sobrenome = 'Nascimento'\n",
    "nome_completo = nome + sobrenome\n",
    "print(nome_completo)"
   ]
  },
  {
   "cell_type": "code",
   "execution_count": 2,
   "metadata": {},
   "outputs": [
    {
     "name": "stdout",
     "output_type": "stream",
     "text": [
      "python python python \n",
      "AAAAAAAAAA\n"
     ]
    }
   ],
   "source": [
    "linguagem = 'python '\n",
    "print(3 * linguagem)\n",
    "letra = 'A'\n",
    "print(10 * letra)"
   ]
  },
  {
   "cell_type": "code",
   "execution_count": 4,
   "metadata": {},
   "outputs": [
    {
     "name": "stdout",
     "output_type": "stream",
     "text": [
      "Anderson tem 45 anos e a sua esposa se chama Kamila\n"
     ]
    }
   ],
   "source": [
    "idade = 45\n",
    "print('Anderson tem %d anos e a sua esposa se chama %s' % (idade, 'Kamila'))"
   ]
  },
  {
   "cell_type": "code",
   "execution_count": 5,
   "metadata": {},
   "outputs": [
    {
     "name": "stdout",
     "output_type": "stream",
     "text": [
      "73.121\n"
     ]
    }
   ],
   "source": [
    "media = 73.121231313\n",
    "print('%.3f' % media)"
   ]
  },
  {
   "cell_type": "code",
   "execution_count": 9,
   "metadata": {},
   "outputs": [
    {
     "name": "stdout",
     "output_type": "stream",
     "text": [
      "91761744\n",
      "91761744\n",
      "Anderson\n",
      "Anderson\n"
     ]
    }
   ],
   "source": [
    "nome = 'Anderson'\n",
    "nome2 = nome\n",
    "print(id(nome))\n",
    "print(id(nome2))\n",
    "print(nome)\n",
    "print(nome2)"
   ]
  },
  {
   "cell_type": "markdown",
   "metadata": {},
   "source": [
    "# Aprendendo python - Entrada de Dados"
   ]
  },
  {
   "cell_type": "code",
   "execution_count": 10,
   "metadata": {},
   "outputs": [
    {
     "name": "stdout",
     "output_type": "stream",
     "text": [
      "Digite sua idade: 45\n"
     ]
    }
   ],
   "source": [
    "idade = input('Digite sua idade: ')"
   ]
  },
  {
   "cell_type": "code",
   "execution_count": 11,
   "metadata": {},
   "outputs": [
    {
     "data": {
      "text/plain": [
       "str"
      ]
     },
     "execution_count": 11,
     "metadata": {},
     "output_type": "execute_result"
    }
   ],
   "source": [
    "type(idade)"
   ]
  },
  {
   "cell_type": "code",
   "execution_count": 12,
   "metadata": {},
   "outputs": [
    {
     "name": "stdout",
     "output_type": "stream",
     "text": [
      "Digite sua idade: 45\n"
     ]
    }
   ],
   "source": [
    "idade = int(input('Digite sua idade: '))"
   ]
  },
  {
   "cell_type": "code",
   "execution_count": 13,
   "metadata": {},
   "outputs": [
    {
     "data": {
      "text/plain": [
       "int"
      ]
     },
     "execution_count": 13,
     "metadata": {},
     "output_type": "execute_result"
    }
   ],
   "source": [
    "type(idade)"
   ]
  },
  {
   "cell_type": "code",
   "execution_count": 14,
   "metadata": {},
   "outputs": [
    {
     "name": "stdout",
     "output_type": "stream",
     "text": [
      "Digite o valor de PI: 3.141592\n"
     ]
    }
   ],
   "source": [
    "var_pi = float(input('Digite o valor de PI: '))"
   ]
  },
  {
   "cell_type": "code",
   "execution_count": 15,
   "metadata": {},
   "outputs": [
    {
     "data": {
      "text/plain": [
       "float"
      ]
     },
     "execution_count": 15,
     "metadata": {},
     "output_type": "execute_result"
    }
   ],
   "source": [
    "type(var_pi)"
   ]
  },
  {
   "cell_type": "markdown",
   "metadata": {},
   "source": [
    "# Aprendendo python - Condições"
   ]
  },
  {
   "cell_type": "code",
   "execution_count": 21,
   "metadata": {},
   "outputs": [
    {
     "name": "stdout",
     "output_type": "stream",
     "text": [
      "Digite sua idade: 19\n",
      "Maior de idade\n"
     ]
    }
   ],
   "source": [
    "idade = int(input('Digite sua idade: '))\n",
    "\n",
    "if idade >= 18:\n",
    "    print('Maior de idade')\n",
    "else:\n",
    "    print('Menor de idade')"
   ]
  },
  {
   "cell_type": "code",
   "execution_count": 26,
   "metadata": {},
   "outputs": [
    {
     "name": "stdout",
     "output_type": "stream",
     "text": [
      "Digite sua idade: 45\n",
      "Adulto\n"
     ]
    }
   ],
   "source": [
    "idade = int(input('Digite sua idade: '))\n",
    "\n",
    "if idade >= 18:\n",
    "    if idade >= 60:\n",
    "        print('Idoso')\n",
    "    else:\n",
    "        print('Adulto')\n",
    "else:\n",
    "    print('Menor')"
   ]
  },
  {
   "cell_type": "code",
   "execution_count": 29,
   "metadata": {},
   "outputs": [
    {
     "name": "stdout",
     "output_type": "stream",
     "text": [
      "Informe a opção(1,2,3):3\n",
      "30\n"
     ]
    }
   ],
   "source": [
    "opcao = int(input('Informe a opção(1,2,3):'))\n",
    "\n",
    "if opcao == 1:\n",
    "    preco = 15\n",
    "elif opcao == 2:\n",
    "    preco = 20\n",
    "elif opcao == 3:\n",
    "    preco = 30\n",
    "else:\n",
    "    preco = 50\n",
    "print(preco)"
   ]
  },
  {
   "cell_type": "markdown",
   "metadata": {},
   "source": [
    "# Aprendendo python - Repetições"
   ]
  },
  {
   "cell_type": "code",
   "execution_count": 30,
   "metadata": {},
   "outputs": [
    {
     "name": "stdout",
     "output_type": "stream",
     "text": [
      "1\n",
      "2\n",
      "3\n",
      "4\n",
      "5\n",
      "6\n",
      "7\n",
      "8\n",
      "9\n",
      "10\n"
     ]
    }
   ],
   "source": [
    "cont = 1\n",
    "while cont <= 10:\n",
    "    print(cont)\n",
    "    cont += 1"
   ]
  },
  {
   "cell_type": "code",
   "execution_count": 31,
   "metadata": {},
   "outputs": [
    {
     "name": "stdout",
     "output_type": "stream",
     "text": [
      "2 4 6 8 10 12 14 16 18 20 22 24 26 28 30 32 34 36 38 40 42 44 46 48 50 52 54 56 58 60 62 64 66 68 70 72 74 76 78 80 82 84 86 88 90 92 94 96 98 100 "
     ]
    }
   ],
   "source": [
    "cont = 1\n",
    "while cont <= 100:\n",
    "    if cont % 2 == 0:\n",
    "        print(cont, end=' ')\n",
    "    cont += 1"
   ]
  },
  {
   "cell_type": "code",
   "execution_count": 32,
   "metadata": {},
   "outputs": [
    {
     "name": "stdout",
     "output_type": "stream",
     "text": [
      "2 4 6 8 10 12 14 16 18 20 22 24 26 28 30 32 34 36 38 40 42 44 46 48 50 52 54 56 58 60 62 64 66 68 70 72 74 76 78 80 82 84 86 88 90 92 94 96 98 100 "
     ]
    }
   ],
   "source": [
    "cont = 1\n",
    "while True:\n",
    "    if cont % 2 == 0:\n",
    "        print(cont, end=' ')\n",
    "    cont += 1\n",
    "    if cont == 101: break"
   ]
  },
  {
   "cell_type": "code",
   "execution_count": 33,
   "metadata": {},
   "outputs": [
    {
     "name": "stdout",
     "output_type": "stream",
     "text": [
      "1 x 1 = 1\n",
      "1 x 2 = 2\n",
      "1 x 3 = 3\n",
      "1 x 4 = 4\n",
      "1 x 5 = 5\n",
      "1 x 6 = 6\n",
      "1 x 7 = 7\n",
      "1 x 8 = 8\n",
      "1 x 9 = 9\n",
      "1 x 10 = 10\n",
      "2 x 1 = 2\n",
      "2 x 2 = 4\n",
      "2 x 3 = 6\n",
      "2 x 4 = 8\n",
      "2 x 5 = 10\n",
      "2 x 6 = 12\n",
      "2 x 7 = 14\n",
      "2 x 8 = 16\n",
      "2 x 9 = 18\n",
      "2 x 10 = 20\n",
      "3 x 1 = 3\n",
      "3 x 2 = 6\n",
      "3 x 3 = 9\n",
      "3 x 4 = 12\n",
      "3 x 5 = 15\n",
      "3 x 6 = 18\n",
      "3 x 7 = 21\n",
      "3 x 8 = 24\n",
      "3 x 9 = 27\n",
      "3 x 10 = 30\n",
      "4 x 1 = 4\n",
      "4 x 2 = 8\n",
      "4 x 3 = 12\n",
      "4 x 4 = 16\n",
      "4 x 5 = 20\n",
      "4 x 6 = 24\n",
      "4 x 7 = 28\n",
      "4 x 8 = 32\n",
      "4 x 9 = 36\n",
      "4 x 10 = 40\n",
      "5 x 1 = 5\n",
      "5 x 2 = 10\n",
      "5 x 3 = 15\n",
      "5 x 4 = 20\n",
      "5 x 5 = 25\n",
      "5 x 6 = 30\n",
      "5 x 7 = 35\n",
      "5 x 8 = 40\n",
      "5 x 9 = 45\n",
      "5 x 10 = 50\n",
      "6 x 1 = 6\n",
      "6 x 2 = 12\n",
      "6 x 3 = 18\n",
      "6 x 4 = 24\n",
      "6 x 5 = 30\n",
      "6 x 6 = 36\n",
      "6 x 7 = 42\n",
      "6 x 8 = 48\n",
      "6 x 9 = 54\n",
      "6 x 10 = 60\n",
      "7 x 1 = 7\n",
      "7 x 2 = 14\n",
      "7 x 3 = 21\n",
      "7 x 4 = 28\n",
      "7 x 5 = 35\n",
      "7 x 6 = 42\n",
      "7 x 7 = 49\n",
      "7 x 8 = 56\n",
      "7 x 9 = 63\n",
      "7 x 10 = 70\n",
      "8 x 1 = 8\n",
      "8 x 2 = 16\n",
      "8 x 3 = 24\n",
      "8 x 4 = 32\n",
      "8 x 5 = 40\n",
      "8 x 6 = 48\n",
      "8 x 7 = 56\n",
      "8 x 8 = 64\n",
      "8 x 9 = 72\n",
      "8 x 10 = 80\n",
      "9 x 1 = 9\n",
      "9 x 2 = 18\n",
      "9 x 3 = 27\n",
      "9 x 4 = 36\n",
      "9 x 5 = 45\n",
      "9 x 6 = 54\n",
      "9 x 7 = 63\n",
      "9 x 8 = 72\n",
      "9 x 9 = 81\n",
      "9 x 10 = 90\n",
      "10 x 1 = 10\n",
      "10 x 2 = 20\n",
      "10 x 3 = 30\n",
      "10 x 4 = 40\n",
      "10 x 5 = 50\n",
      "10 x 6 = 60\n",
      "10 x 7 = 70\n",
      "10 x 8 = 80\n",
      "10 x 9 = 90\n",
      "10 x 10 = 100\n"
     ]
    }
   ],
   "source": [
    "tabuada = 1\n",
    "while tabuada <= 10:\n",
    "    numero = 1\n",
    "    while numero <= 10:\n",
    "        print('%d x %d = %d' % (tabuada, numero, tabuada * numero))\n",
    "        numero += 1\n",
    "    tabuada +=1"
   ]
  },
  {
   "cell_type": "markdown",
   "metadata": {},
   "source": [
    "# Aprendendo python - Listas"
   ]
  },
  {
   "cell_type": "code",
   "execution_count": 34,
   "metadata": {},
   "outputs": [
    {
     "name": "stdout",
     "output_type": "stream",
     "text": [
      "0\n"
     ]
    }
   ],
   "source": [
    "lista = []\n",
    "print(len(lista))"
   ]
  },
  {
   "cell_type": "code",
   "execution_count": 36,
   "metadata": {},
   "outputs": [
    {
     "name": "stdout",
     "output_type": "stream",
     "text": [
      "4\n",
      "[2, 'Anderson', 5.4, ['joao', 'maria', 'pedro']]\n"
     ]
    },
    {
     "data": {
      "text/plain": [
       "list"
      ]
     },
     "execution_count": 36,
     "metadata": {},
     "output_type": "execute_result"
    }
   ],
   "source": [
    "lista = [2, 'Anderson', 5.4, ['joao', 'maria', 'pedro']]\n",
    "print(len(lista))\n",
    "print(lista)\n",
    "type(lista)"
   ]
  },
  {
   "cell_type": "code",
   "execution_count": 37,
   "metadata": {},
   "outputs": [
    {
     "name": "stdout",
     "output_type": "stream",
     "text": [
      "4\n",
      "[2, 'Anderson', 5.4, ['joao', 'maria', 'pedro']]\n",
      "['joao', 'maria', 'pedro']\n",
      "pedro\n",
      "[2, 'ANDERSON', 5.4, ['joao', 'maria', 'pedro']]\n"
     ]
    }
   ],
   "source": [
    "lista = [2, 'Anderson', 5.4, ['joao', 'maria', 'pedro']]\n",
    "print(len(lista))\n",
    "print(lista)\n",
    "print(lista[-1])\n",
    "print(lista[-1][-1])\n",
    "lista[1] = 'ANDERSON'\n",
    "print(lista)"
   ]
  },
  {
   "cell_type": "code",
   "execution_count": 38,
   "metadata": {},
   "outputs": [
    {
     "name": "stdout",
     "output_type": "stream",
     "text": [
      "1 2 3 4 "
     ]
    }
   ],
   "source": [
    "lista = [1,2,3,4]\n",
    "cont = 0\n",
    "while cont < len(lista):\n",
    "    print(lista[cont], end=' ')\n",
    "    cont += 1"
   ]
  },
  {
   "cell_type": "code",
   "execution_count": 39,
   "metadata": {},
   "outputs": [
    {
     "name": "stdout",
     "output_type": "stream",
     "text": [
      "[1, 2, 3]\n",
      "[4, 5, 6]\n"
     ]
    }
   ],
   "source": [
    "lista = [1,2,3,4,5,6]\n",
    "print(lista[0:3])\n",
    "print(lista[-3:])"
   ]
  },
  {
   "cell_type": "code",
   "execution_count": 40,
   "metadata": {},
   "outputs": [
    {
     "name": "stdout",
     "output_type": "stream",
     "text": [
      "[10, 2, 3, 4, 5]\n"
     ]
    }
   ],
   "source": [
    "lista1 = [1,2,3,4,5]\n",
    "lista2 = lista1 # Copia apenas a referência\n",
    "lista2[0] = 10\n",
    "print(lista1)"
   ]
  },
  {
   "cell_type": "code",
   "execution_count": 41,
   "metadata": {},
   "outputs": [
    {
     "name": "stdout",
     "output_type": "stream",
     "text": [
      "[1, 2, 3, 4, 5]\n",
      "[10, 2, 3, 4, 5]\n"
     ]
    }
   ],
   "source": [
    "lista1 = [1,2,3,4,5]\n",
    "lista2 = lista1[:] # copia lista1\n",
    "lista2[0] = 10\n",
    "print(lista1)\n",
    "print(lista2)"
   ]
  },
  {
   "cell_type": "code",
   "execution_count": 42,
   "metadata": {},
   "outputs": [
    {
     "name": "stdout",
     "output_type": "stream",
     "text": [
      "[1, 2, 3, 'anderson']\n"
     ]
    }
   ],
   "source": [
    "lista = [1,2,3]\n",
    "lista.append('anderson')\n",
    "print(lista)"
   ]
  },
  {
   "cell_type": "code",
   "execution_count": 43,
   "metadata": {},
   "outputs": [
    {
     "name": "stdout",
     "output_type": "stream",
     "text": [
      "[1, 2, 3, 4, 5, 6]\n"
     ]
    }
   ],
   "source": [
    "l1 = [1,2,3]\n",
    "l2 = [4,5,6]\n",
    "l1_l2 = l1 + l2\n",
    "print(l1_l2)"
   ]
  },
  {
   "cell_type": "code",
   "execution_count": 44,
   "metadata": {},
   "outputs": [
    {
     "name": "stdout",
     "output_type": "stream",
     "text": [
      "[2, 3]\n"
     ]
    }
   ],
   "source": [
    "lista = [1,2,3]\n",
    "lista.pop(0)\n",
    "print(lista)"
   ]
  },
  {
   "cell_type": "code",
   "execution_count": 45,
   "metadata": {},
   "outputs": [
    {
     "name": "stdout",
     "output_type": "stream",
     "text": [
      "[2, 3.14]\n"
     ]
    }
   ],
   "source": [
    "lista = ['anderson', 2, 3.14]\n",
    "lista.remove('anderson')\n",
    "print(lista)"
   ]
  },
  {
   "cell_type": "markdown",
   "metadata": {},
   "source": [
    "# Aprendendo python - Estrutura de repetição for"
   ]
  },
  {
   "cell_type": "code",
   "execution_count": 46,
   "metadata": {},
   "outputs": [
    {
     "name": "stdout",
     "output_type": "stream",
     "text": [
      "1 2 3 4 "
     ]
    }
   ],
   "source": [
    "lista = [1,2,3,4]\n",
    "for e in lista:\n",
    "    print(e, end=' ')"
   ]
  },
  {
   "cell_type": "code",
   "execution_count": 48,
   "metadata": {},
   "outputs": [
    {
     "name": "stdout",
     "output_type": "stream",
     "text": [
      "Valor de busca: 3\n",
      "Encontrou!\n"
     ]
    }
   ],
   "source": [
    "lista = [1,10,3,4]\n",
    "busca = int(input('Valor de busca: '))\n",
    "for e in lista:\n",
    "    if e == busca:\n",
    "        print('Encontrou!')\n",
    "        break"
   ]
  },
  {
   "cell_type": "code",
   "execution_count": 49,
   "metadata": {},
   "outputs": [
    {
     "name": "stdout",
     "output_type": "stream",
     "text": [
      "0 1 2 3 4 5 6 7 8 9 "
     ]
    }
   ],
   "source": [
    "for i in range(10):\n",
    "    print(i, end=' ')"
   ]
  },
  {
   "cell_type": "code",
   "execution_count": 50,
   "metadata": {},
   "outputs": [
    {
     "name": "stdout",
     "output_type": "stream",
     "text": [
      "1 2 3 4 5 6 7 8 9 10 "
     ]
    }
   ],
   "source": [
    "for i in range(1, 11):\n",
    "    print(i, end=' ')"
   ]
  },
  {
   "cell_type": "code",
   "execution_count": 51,
   "metadata": {},
   "outputs": [
    {
     "name": "stdout",
     "output_type": "stream",
     "text": [
      "2 4 6 8 10 "
     ]
    }
   ],
   "source": [
    "for i in range(2, 11, 2):\n",
    "    print(i, end=' ')"
   ]
  },
  {
   "cell_type": "code",
   "execution_count": 54,
   "metadata": {},
   "outputs": [
    {
     "name": "stdout",
     "output_type": "stream",
     "text": [
      "Digite o nome: ANDERSON\n",
      "A N D E R S O N "
     ]
    }
   ],
   "source": [
    "nome = input('Digite o nome: ')\n",
    "for c in nome:\n",
    "    print(c, end=' ')"
   ]
  },
  {
   "cell_type": "markdown",
   "metadata": {},
   "source": [
    "# Aprendendo python - Tuplas"
   ]
  },
  {
   "cell_type": "code",
   "execution_count": 55,
   "metadata": {},
   "outputs": [
    {
     "name": "stdout",
     "output_type": "stream",
     "text": [
      "(1, 'python', 2, 3)\n"
     ]
    },
    {
     "data": {
      "text/plain": [
       "tuple"
      ]
     },
     "execution_count": 55,
     "metadata": {},
     "output_type": "execute_result"
    }
   ],
   "source": [
    "tupla = (1, 'python', 2, 3)\n",
    "print(tupla)\n",
    "type(tupla)\n"
   ]
  },
  {
   "cell_type": "code",
   "execution_count": 172,
   "metadata": {},
   "outputs": [],
   "source": [
    "# print(help(tuple))"
   ]
  },
  {
   "cell_type": "code",
   "execution_count": 56,
   "metadata": {},
   "outputs": [
    {
     "name": "stdout",
     "output_type": "stream",
     "text": [
      "3\n"
     ]
    }
   ],
   "source": [
    "tupla = (1,2,3,4,4,4,5)\n",
    "print(tupla.count(4))"
   ]
  },
  {
   "cell_type": "code",
   "execution_count": 57,
   "metadata": {},
   "outputs": [
    {
     "name": "stdout",
     "output_type": "stream",
     "text": [
      "0\n",
      "1\n",
      "3\n"
     ]
    }
   ],
   "source": [
    "tupla = ('ze',2, 'python')\n",
    "print(tupla.index('ze'))\n",
    "print(tupla.index(2))\n",
    "print(len(tupla))"
   ]
  },
  {
   "cell_type": "markdown",
   "metadata": {},
   "source": [
    "# Aprendendo python - Conjuntos"
   ]
  },
  {
   "cell_type": "code",
   "execution_count": 58,
   "metadata": {},
   "outputs": [
    {
     "data": {
      "text/plain": [
       "set"
      ]
     },
     "execution_count": 58,
     "metadata": {},
     "output_type": "execute_result"
    }
   ],
   "source": [
    "s = set()\n",
    "type(s)"
   ]
  },
  {
   "cell_type": "code",
   "execution_count": 59,
   "metadata": {},
   "outputs": [
    {
     "name": "stdout",
     "output_type": "stream",
     "text": [
      "{10, 20, 30}\n"
     ]
    }
   ],
   "source": [
    "s = set()\n",
    "s.add(10)\n",
    "s.add(20)\n",
    "s.add(30)\n",
    "s.add(10)\n",
    "print(s) # não aceita elementos repetidos"
   ]
  },
  {
   "cell_type": "code",
   "execution_count": 60,
   "metadata": {},
   "outputs": [
    {
     "name": "stdout",
     "output_type": "stream",
     "text": [
      "{1, 2, 3, 4, 5, 6}\n"
     ]
    }
   ],
   "source": [
    "s1 = {1,2,3,4}\n",
    "s2 = {3,4,5,6}\n",
    "type(s1)\n",
    "uniao = s1.union(s2)\n",
    "print(uniao)"
   ]
  },
  {
   "cell_type": "code",
   "execution_count": 61,
   "metadata": {},
   "outputs": [
    {
     "name": "stdout",
     "output_type": "stream",
     "text": [
      "{3, 4}\n"
     ]
    }
   ],
   "source": [
    "s1 = {1,2,3,4}\n",
    "s2 = {3,4,5,6}\n",
    "inter = s1.intersection(s2)\n",
    "print(inter)"
   ]
  },
  {
   "cell_type": "code",
   "execution_count": 62,
   "metadata": {},
   "outputs": [
    {
     "name": "stdout",
     "output_type": "stream",
     "text": [
      "{1, 2}\n",
      "{5, 6}\n"
     ]
    }
   ],
   "source": [
    "s1 = {1,2,3,4}\n",
    "s2 = {3,4,5,6}\n",
    "diff = s1.difference(s2)\n",
    "diff2 = s2.difference(s1)\n",
    "print(diff)\n",
    "print(diff2)"
   ]
  },
  {
   "cell_type": "code",
   "execution_count": 63,
   "metadata": {},
   "outputs": [
    {
     "ename": "TypeError",
     "evalue": "'set' object is not subscriptable",
     "output_type": "error",
     "traceback": [
      "\u001b[1;31m---------------------------------------------------------------------------\u001b[0m",
      "\u001b[1;31mTypeError\u001b[0m                                 Traceback (most recent call last)",
      "\u001b[1;32m<ipython-input-63-4a4a9a038894>\u001b[0m in \u001b[0;36m<module>\u001b[1;34m\u001b[0m\n\u001b[0;32m      1\u001b[0m \u001b[0ms1\u001b[0m \u001b[1;33m=\u001b[0m \u001b[1;33m{\u001b[0m\u001b[1;36m1\u001b[0m\u001b[1;33m,\u001b[0m\u001b[1;36m2\u001b[0m\u001b[1;33m,\u001b[0m\u001b[1;36m3\u001b[0m\u001b[1;33m,\u001b[0m\u001b[1;36m4\u001b[0m\u001b[1;33m}\u001b[0m\u001b[1;33m\u001b[0m\u001b[1;33m\u001b[0m\u001b[0m\n\u001b[1;32m----> 2\u001b[1;33m \u001b[0mprint\u001b[0m\u001b[1;33m(\u001b[0m\u001b[0ms1\u001b[0m\u001b[1;33m[\u001b[0m\u001b[1;36m0\u001b[0m\u001b[1;33m]\u001b[0m\u001b[1;33m)\u001b[0m \u001b[1;31m# não suporta indice\u001b[0m\u001b[1;33m\u001b[0m\u001b[1;33m\u001b[0m\u001b[0m\n\u001b[0m",
      "\u001b[1;31mTypeError\u001b[0m: 'set' object is not subscriptable"
     ]
    }
   ],
   "source": [
    "s1 = {1,2,3,4}\n",
    "print(s1[0]) # não suporta indice"
   ]
  },
  {
   "cell_type": "code",
   "execution_count": 64,
   "metadata": {},
   "outputs": [
    {
     "name": "stdout",
     "output_type": "stream",
     "text": [
      "{1, 2, 3, 4, 5, 6, 7}\n"
     ]
    }
   ],
   "source": [
    "lista = [1,2,3,3,3,4,5,5,6,7,7,7]\n",
    "s = set(lista)\n",
    "print(s)"
   ]
  },
  {
   "cell_type": "markdown",
   "metadata": {},
   "source": [
    "# Aprendendo python - Dicionários"
   ]
  },
  {
   "cell_type": "code",
   "execution_count": 65,
   "metadata": {},
   "outputs": [
    {
     "name": "stdout",
     "output_type": "stream",
     "text": [
      "{'Anderson': 43, 'Kamila': 34, 'Andrew': 11}\n",
      "34\n",
      "{'Anderson': 44, 'Kamila': 34, 'Andrew': 11}\n",
      "{'Anderson': 44, 'Kamila': 34, 'Andrew': 11, 'Andressa': 19}\n",
      "44 34 11 19 "
     ]
    }
   ],
   "source": [
    "d = {'Anderson': 43, 'Kamila': 34, 'Andrew': 11}\n",
    "print(d)\n",
    "print(d['Kamila'])\n",
    "d['Anderson'] = 44\n",
    "print(d)\n",
    "d['Andressa'] = 19\n",
    "print(d)\n",
    "for key in d:\n",
    "    print(d[key], end=' ')"
   ]
  },
  {
   "cell_type": "code",
   "execution_count": 66,
   "metadata": {},
   "outputs": [
    {
     "name": "stdout",
     "output_type": "stream",
     "text": [
      "dict_items([('Anderson', 44), ('Kamila', 34), ('Andrew', 11), ('Andressa', 19)])\n",
      "dict_keys(['Anderson', 'Kamila', 'Andrew', 'Andressa'])\n",
      "dict_values([44, 34, 11, 19])\n",
      "True\n",
      "False\n"
     ]
    }
   ],
   "source": [
    "print(d.items())\n",
    "print(d.keys())\n",
    "print(d.values())\n",
    "print('Andrew' in d)\n",
    "print('python' in d)"
   ]
  },
  {
   "cell_type": "markdown",
   "metadata": {},
   "source": [
    "# Aprendendo python - Funções"
   ]
  },
  {
   "cell_type": "code",
   "execution_count": 67,
   "metadata": {},
   "outputs": [
    {
     "name": "stdout",
     "output_type": "stream",
     "text": [
      "3\n",
      "8\n"
     ]
    }
   ],
   "source": [
    "def somar(n1, n2):\n",
    "    return n1 + n2\n",
    "\n",
    "print(somar(1,2))\n",
    "print(somar(5,3))"
   ]
  },
  {
   "cell_type": "code",
   "execution_count": 68,
   "metadata": {},
   "outputs": [
    {
     "name": "stdout",
     "output_type": "stream",
     "text": [
      "Eu sou uma função\n",
      "Aprendendo python\n"
     ]
    }
   ],
   "source": [
    "def imprimir():\n",
    "    print('Eu sou uma função')\n",
    "    print('Aprendendo python')\n",
    "    \n",
    "imprimir()"
   ]
  },
  {
   "cell_type": "code",
   "execution_count": 69,
   "metadata": {},
   "outputs": [
    {
     "name": "stdout",
     "output_type": "stream",
     "text": [
      "True\n",
      "False\n"
     ]
    }
   ],
   "source": [
    "def eh_par(x):\n",
    "    return x % 2 == 0\n",
    "\n",
    "print(eh_par(10))\n",
    "print(eh_par(11))"
   ]
  },
  {
   "cell_type": "code",
   "execution_count": 70,
   "metadata": {},
   "outputs": [
    {
     "name": "stdout",
     "output_type": "stream",
     "text": [
      "15\n",
      "3\n"
     ]
    }
   ],
   "source": [
    "def foo(*args):\n",
    "    return sum(*args)\n",
    "\n",
    "print(foo([1,2,3,4,5]))\n",
    "print(foo([1,2]))"
   ]
  },
  {
   "cell_type": "code",
   "execution_count": 71,
   "metadata": {},
   "outputs": [
    {
     "name": "stdout",
     "output_type": "stream",
     "text": [
      "hello world\n"
     ]
    }
   ],
   "source": [
    "imprimir = print\n",
    "imprimir('hello world')"
   ]
  },
  {
   "cell_type": "code",
   "execution_count": 72,
   "metadata": {},
   "outputs": [
    {
     "name": "stdout",
     "output_type": "stream",
     "text": [
      "120\n"
     ]
    }
   ],
   "source": [
    "# fatorial -> 5! = 5 * 4 * 3 * 2 * 1 = 120\n",
    "def fat(n):\n",
    "    if n == 0 or n == 1:\n",
    "        return 1\n",
    "    return n * fat(n -1)\n",
    "\n",
    "print(fat(5))"
   ]
  },
  {
   "cell_type": "code",
   "execution_count": 73,
   "metadata": {},
   "outputs": [
    {
     "name": "stdout",
     "output_type": "stream",
     "text": [
      "Anderson\n",
      "desconhecido\n"
     ]
    }
   ],
   "source": [
    "def imprimir_nome(nome = 'desconhecido'):\n",
    "    print(nome)\n",
    "    \n",
    "imprimir_nome('Anderson')\n",
    "imprimir_nome()"
   ]
  },
  {
   "cell_type": "code",
   "execution_count": 75,
   "metadata": {},
   "outputs": [
    {
     "name": "stdout",
     "output_type": "stream",
     "text": [
      "610\n"
     ]
    }
   ],
   "source": [
    "def somar(x, y, z, f):\n",
    "    return x + f(y, z)\n",
    "\n",
    "def f(n1, n2):\n",
    "    return n1 * n2\n",
    "\n",
    "print(somar(10, 20, 30, f))"
   ]
  },
  {
   "cell_type": "code",
   "execution_count": 76,
   "metadata": {},
   "outputs": [
    {
     "name": "stdout",
     "output_type": "stream",
     "text": [
      "8\n",
      "20\n"
     ]
    }
   ],
   "source": [
    "a = lambda x: x*2\n",
    "print(a(4))\n",
    "print(a(10))"
   ]
  },
  {
   "cell_type": "code",
   "execution_count": 196,
   "metadata": {},
   "outputs": [
    {
     "ename": "TypeError",
     "evalue": "sum expected at most 2 arguments, got 4",
     "output_type": "error",
     "traceback": [
      "\u001b[1;31m---------------------------------------------------------------------------\u001b[0m",
      "\u001b[1;31mTypeError\u001b[0m                                 Traceback (most recent call last)",
      "\u001b[1;32m<ipython-input-196-ae423be159c6>\u001b[0m in \u001b[0;36m<module>\u001b[1;34m()\u001b[0m\n\u001b[0;32m      3\u001b[0m \u001b[1;33m\u001b[0m\u001b[0m\n\u001b[0;32m      4\u001b[0m \u001b[0mf\u001b[0m\u001b[1;33m(\u001b[0m\u001b[1;33m[\u001b[0m\u001b[1;36m1\u001b[0m\u001b[1;33m,\u001b[0m\u001b[1;36m2\u001b[0m\u001b[1;33m,\u001b[0m\u001b[1;36m3\u001b[0m\u001b[1;33m,\u001b[0m\u001b[1;36m4\u001b[0m\u001b[1;33m]\u001b[0m\u001b[1;33m)\u001b[0m\u001b[1;33m\u001b[0m\u001b[0m\n\u001b[1;32m----> 5\u001b[1;33m \u001b[0mf\u001b[0m\u001b[1;33m(\u001b[0m\u001b[1;36m1\u001b[0m\u001b[1;33m,\u001b[0m\u001b[1;36m2\u001b[0m\u001b[1;33m,\u001b[0m\u001b[1;36m3\u001b[0m\u001b[1;33m,\u001b[0m\u001b[1;36m4\u001b[0m\u001b[1;33m)\u001b[0m\u001b[1;33m\u001b[0m\u001b[0m\n\u001b[0m",
      "\u001b[1;32m<ipython-input-196-ae423be159c6>\u001b[0m in \u001b[0;36mf\u001b[1;34m(*args)\u001b[0m\n\u001b[0;32m      1\u001b[0m \u001b[1;32mdef\u001b[0m \u001b[0mf\u001b[0m\u001b[1;33m(\u001b[0m\u001b[1;33m*\u001b[0m\u001b[0margs\u001b[0m\u001b[1;33m)\u001b[0m\u001b[1;33m:\u001b[0m\u001b[1;33m\u001b[0m\u001b[0m\n\u001b[1;32m----> 2\u001b[1;33m     \u001b[1;32mreturn\u001b[0m \u001b[0msum\u001b[0m\u001b[1;33m(\u001b[0m\u001b[1;33m*\u001b[0m\u001b[0margs\u001b[0m\u001b[1;33m)\u001b[0m\u001b[1;33m\u001b[0m\u001b[0m\n\u001b[0m\u001b[0;32m      3\u001b[0m \u001b[1;33m\u001b[0m\u001b[0m\n\u001b[0;32m      4\u001b[0m \u001b[0mf\u001b[0m\u001b[1;33m(\u001b[0m\u001b[1;33m[\u001b[0m\u001b[1;36m1\u001b[0m\u001b[1;33m,\u001b[0m\u001b[1;36m2\u001b[0m\u001b[1;33m,\u001b[0m\u001b[1;36m3\u001b[0m\u001b[1;33m,\u001b[0m\u001b[1;36m4\u001b[0m\u001b[1;33m]\u001b[0m\u001b[1;33m)\u001b[0m\u001b[1;33m\u001b[0m\u001b[0m\n\u001b[0;32m      5\u001b[0m \u001b[0mf\u001b[0m\u001b[1;33m(\u001b[0m\u001b[1;36m1\u001b[0m\u001b[1;33m,\u001b[0m\u001b[1;36m2\u001b[0m\u001b[1;33m,\u001b[0m\u001b[1;36m3\u001b[0m\u001b[1;33m,\u001b[0m\u001b[1;36m4\u001b[0m\u001b[1;33m)\u001b[0m\u001b[1;33m\u001b[0m\u001b[0m\n",
      "\u001b[1;31mTypeError\u001b[0m: sum expected at most 2 arguments, got 4"
     ]
    }
   ],
   "source": [
    "def f(*args):\n",
    "    return sum(*args)\n",
    "\n",
    "f([1,2,3,4])\n",
    "f(1,2,3,4)"
   ]
  },
  {
   "cell_type": "code",
   "execution_count": 1,
   "metadata": {},
   "outputs": [
    {
     "name": "stdout",
     "output_type": "stream",
     "text": [
      "[1, 2, 3]\n",
      "1 2 3\n"
     ]
    }
   ],
   "source": [
    "def f(*args):\n",
    "    print(*args)\n",
    "\n",
    "f([1,2,3])\n",
    "f(1,2,3)"
   ]
  },
  {
   "cell_type": "code",
   "execution_count": 5,
   "metadata": {},
   "outputs": [
    {
     "name": "stdout",
     "output_type": "stream",
     "text": [
      "([1, 2, 3],)\n",
      "([1, 2, 3], [4, 5, 6])\n",
      "(1, 2, 3)\n",
      "(1, 2, 3, 4)\n"
     ]
    }
   ],
   "source": [
    "def f(*args):\n",
    "    print(args)\n",
    "    \n",
    "f([1,2,3])\n",
    "f([1,2,3], [4,5,6])\n",
    "f(1,2,3)\n",
    "f(*(1,2,3,4))"
   ]
  },
  {
   "cell_type": "code",
   "execution_count": 7,
   "metadata": {},
   "outputs": [
    {
     "name": "stdout",
     "output_type": "stream",
     "text": [
      "1 2 3\n",
      "1 2 3\n",
      "1 2 3\n"
     ]
    },
    {
     "ename": "TypeError",
     "evalue": "f() missing 2 required positional arguments: 'y' and 'z'",
     "output_type": "error",
     "traceback": [
      "\u001b[1;31m---------------------------------------------------------------------------\u001b[0m",
      "\u001b[1;31mTypeError\u001b[0m                                 Traceback (most recent call last)",
      "\u001b[1;32m<ipython-input-7-b30820f60e14>\u001b[0m in \u001b[0;36m<module>\u001b[1;34m()\u001b[0m\n\u001b[0;32m      5\u001b[0m \u001b[0mf\u001b[0m\u001b[1;33m(\u001b[0m\u001b[1;33m*\u001b[0m\u001b[1;33m[\u001b[0m\u001b[1;36m1\u001b[0m\u001b[1;33m,\u001b[0m\u001b[1;36m2\u001b[0m\u001b[1;33m,\u001b[0m\u001b[1;36m3\u001b[0m\u001b[1;33m]\u001b[0m\u001b[1;33m)\u001b[0m\u001b[1;33m\u001b[0m\u001b[0m\n\u001b[0;32m      6\u001b[0m \u001b[0mf\u001b[0m\u001b[1;33m(\u001b[0m\u001b[1;36m1\u001b[0m\u001b[1;33m,\u001b[0m\u001b[1;36m2\u001b[0m\u001b[1;33m,\u001b[0m\u001b[1;36m3\u001b[0m\u001b[1;33m)\u001b[0m\u001b[1;33m\u001b[0m\u001b[0m\n\u001b[1;32m----> 7\u001b[1;33m \u001b[0mf\u001b[0m\u001b[1;33m(\u001b[0m\u001b[1;33m[\u001b[0m\u001b[1;36m1\u001b[0m\u001b[1;33m,\u001b[0m\u001b[1;36m2\u001b[0m\u001b[1;33m,\u001b[0m\u001b[1;36m3\u001b[0m\u001b[1;33m]\u001b[0m\u001b[1;33m)\u001b[0m\u001b[1;33m\u001b[0m\u001b[0m\n\u001b[0m",
      "\u001b[1;31mTypeError\u001b[0m: f() missing 2 required positional arguments: 'y' and 'z'"
     ]
    }
   ],
   "source": [
    "def f(x,y,z):\n",
    "    print(x,y,z)\n",
    "    \n",
    "f(*(1,2,3))\n",
    "f(*[1,2,3])\n",
    "f(1,2,3)\n",
    "f([1,2,3])"
   ]
  },
  {
   "cell_type": "markdown",
   "metadata": {},
   "source": [
    "# Aprendendo python - Módulos"
   ]
  },
  {
   "cell_type": "code",
   "execution_count": 80,
   "metadata": {},
   "outputs": [
    {
     "name": "stdout",
     "output_type": "stream",
     "text": [
      "25\n",
      "50\n",
      "40\n",
      "120\n",
      "5.0\n"
     ]
    }
   ],
   "source": [
    "# o módulo my_math está na pasta raiz\n",
    "from my_math import area_quad, area_ret, peri_quad\n",
    "import math\n",
    "\n",
    "print(area_quad(5))\n",
    "print(area_ret(5, 10))\n",
    "print(peri_quad(10))\n",
    "\n",
    "print(math.factorial(5))\n",
    "print(math.sqrt(25))"
   ]
  },
  {
   "cell_type": "code",
   "execution_count": 83,
   "metadata": {},
   "outputs": [],
   "source": [
    "# help(math)"
   ]
  },
  {
   "cell_type": "markdown",
   "metadata": {},
   "source": [
    "# Arquivos"
   ]
  },
  {
   "cell_type": "code",
   "execution_count": 88,
   "metadata": {},
   "outputs": [],
   "source": [
    "# -*- encoding=UTF-8 -*-\n",
    "arq = open('arquivo.txt', 'w')\n",
    "arq.write('machine learning')\n",
    "arq.write('\\naprendendo python')\n",
    "arq.close()"
   ]
  },
  {
   "cell_type": "code",
   "execution_count": 90,
   "metadata": {},
   "outputs": [],
   "source": [
    "# -*- encoding=UTF-8 -*-\n",
    "arq = open('arquivo.txt', 'w')\n",
    "\n",
    "texto = '''Aprendendo Python\n",
    "Machine Learning\n",
    "Python eh shooow!!!\n",
    "'''\n",
    "arq.write(texto)\n",
    "arq.close()"
   ]
  },
  {
   "cell_type": "code",
   "execution_count": 92,
   "metadata": {},
   "outputs": [],
   "source": [
    "# -*- encoding=UTF-8 -*-\n",
    "# versão mais pythonica\n",
    "texto = '''Aprendendo Python\n",
    "Machine Learning\n",
    "Python eh shooow!!!\n",
    "'''\n",
    "\n",
    "with open('arquivo.txt', 'w') as f:\n",
    "    f.write(texto)"
   ]
  },
  {
   "cell_type": "code",
   "execution_count": 102,
   "metadata": {},
   "outputs": [
    {
     "name": "stdout",
     "output_type": "stream",
     "text": [
      "5.1 3.5 1.4 0.2 Iris-setosa\n",
      "7.0 3.2 4.7 1.4 Iris-versicolor\n",
      "6.3 3.3 6.0 2.5 Iris-virginica\n",
      "4.9 3.0 1.4 0.2 Iris-setosa\n",
      "5.7 2.8 4.1 1.3 Iris-versicolor\n",
      "5.8 2.7 5.1 1.9 Iris-virginica\n",
      "4.7 3.2 1.3 0.2 Iris-setosa\n",
      "5.1 2.5 3.0 1.1 Iris-versicolor\n",
      "7.1 3.0 5.9 2.1 Iris-virginica\n",
      "4.6 3.1 1.5 0.2 Iris-setosa\n",
      "5.8 2.6 4.0 1.2 Iris-versicolor\n",
      "6.3 2.9 5.6 1.8 Iris-virginica\n",
      "5.0 3.6 1.4 0.2 Iris-setosa\n",
      "6.1 3.0 4.6 1.4 Iris-versicolor\n",
      "6.5 3.0 5.8 2.2 Iris-virginica\n",
      "5.4 3.9 1.7 0.4 Iris-setosa\n",
      "5.5 2.6 4.4 1.2 Iris-versicolor\n",
      "7.6 3.0 6.6 2.1 Iris-virginica\n",
      "4.6 3.4 1.4 0.3 Iris-setosa\n",
      "5.5 2.5 4.0 1.3 Iris-versicolor\n",
      "4.9 2.5 4.5 1.7 Iris-virginica\n",
      "5.0 3.4 1.5 0.2 Iris-setosa\n",
      "5.6 3.0 4.1 1.3 Iris-versicolor\n",
      "7.3 2.9 6.3 1.8 Iris-virginica\n",
      "5.1 3.5 1.4 0.3 Iris-setosa\n",
      "6.3 2.3 4.4 1.3 Iris-versicolor\n",
      "6.7 2.5 5.8 1.8 Iris-virginica\n",
      "5.7 3.8 1.7 0.3 Iris-setosa\n",
      "6.7 3.1 4.7 1.5 Iris-versicolor\n",
      "7.2 3.6 6.1 2.5 Iris-virginica\n",
      "5.1 3.8 1.5 0.3 Iris-setosa\n",
      "6.0 3.4 4.5 1.6 Iris-versicolor\n",
      "6.5 3.2 5.1 2.0 Iris-virginica\n",
      "5.4 3.4 1.7 0.2 Iris-setosa\n",
      "5.4 3.0 4.5 1.5 Iris-versicolor\n",
      "6.4 2.7 5.3 1.9 Iris-virginica\n",
      "5.1 3.7 1.5 0.4 Iris-setosa\n",
      "6.0 2.7 5.1 1.6 Iris-versicolor\n",
      "6.8 3.0 5.5 2.1 Iris-virginica\n",
      "4.6 3.6 1.0 0.2 Iris-setosa\n",
      "5.8 2.7 3.9 1.2 Iris-versicolor\n",
      "6.0 2.2 5.0 1.5 Iris-virginica\n",
      "5.1 3.3 1.7 0.5 Iris-setosa\n",
      "5.5 2.4 3.7 1.0 Iris-versicolor\n",
      "6.9 3.2 5.7 2.3 Iris-virginica\n",
      "4.8 3.4 1.9 0.2 Iris-setosa\n",
      "5.5 2.4 3.8 1.1 Iris-versicolor\n",
      "5.6 2.8 4.9 2.0 Iris-virginica\n",
      "5.0 3.0 1.6 0.2 Iris-setosa\n",
      "5.7 2.6 3.5 1.0 Iris-versicolor\n",
      "7.7 2.8 6.7 2.0 Iris-virginica\n",
      "5.0 3.4 1.6 0.4 Iris-setosa\n",
      "6.0 2.9 4.5 1.5 Iris-versicolor\n",
      "6.3 2.7 4.9 1.8 Iris-virginica\n",
      "5.2 3.5 1.5 0.2 Iris-setosa\n",
      "6.7 3.0 5.0 1.7 Iris-versicolor\n",
      "6.7 3.3 5.7 2.1 Iris-virginica\n",
      "5.2 3.4 1.4 0.2 Iris-setosa\n",
      "5.6 3.0 4.5 1.5 Iris-versicolor\n",
      "7.2 3.2 6.0 1.8 Iris-virginica\n",
      "4.7 3.2 1.6 0.2 Iris-setosa\n",
      "6.7 3.1 4.4 1.4 Iris-versicolor\n",
      "6.2 2.8 4.8 1.8 Iris-virginica\n",
      "4.8 3.1 1.6 0.2 Iris-setosa\n",
      "5.6 2.9 3.6 1.3 Iris-versicolor\n",
      "6.1 2.6 5.6 1.4 Iris-virginica\n",
      "5.4 3.4 1.5 0.4 Iris-setosa\n",
      "6.1 2.9 4.7 1.4 Iris-versicolor\n",
      "7.7 3.0 6.1 2.3 Iris-virginica\n",
      "4.4 3.0 1.3 0.2 Iris-setosa\n",
      "6.0 2.2 4.0 1.0 Iris-versicolor\n",
      "6.3 3.4 5.6 2.4 Iris-virginica\n",
      "5.1 3.4 1.5 0.2 Iris-setosa\n",
      "5.9 3.0 4.2 1.5 Iris-versicolor\n",
      "6.4 3.1 5.5 1.8 Iris-virginica\n",
      "5.0 3.5 1.3 0.3 Iris-setosa\n",
      "5.0 2.0 3.5 1.0 Iris-versicolor\n",
      "6.0 3.0 4.8 1.8 Iris-virginica\n",
      "4.5 2.3 1.3 0.3 Iris-setosa\n",
      "5.2 2.7 3.9 1.4 Iris-versicolor\n",
      "6.9 3.1 5.4 2.1 Iris-virginica\n",
      "4.4 3.2 1.3 0.2 Iris-setosa\n",
      "6.6 2.9 4.6 1.3 Iris-versicolor\n",
      "6.7 3.1 5.6 2.4 Iris-virginica\n",
      "5.0 3.5 1.6 0.6 Iris-setosa\n",
      "4.9 2.4 3.3 1.0 Iris-versicolor\n",
      "6.8 3.2 5.9 2.3 Iris-virginica\n",
      "5.1 3.8 1.9 0.4 Iris-setosa\n",
      "6.3 3.3 4.7 1.6 Iris-versicolor\n",
      "6.7 3.3 5.7 2.5 Iris-virginica\n",
      "4.8 3.0 1.4 0.3 Iris-setosa\n",
      "5.7 2.8 4.5 1.3 Iris-versicolor\n",
      "6.7 3.0 5.2 2.3 Iris-virginica\n",
      "5.1 3.8 1.6 0.2 Iris-setosa\n",
      "6.5 2.8 4.6 1.5 Iris-versicolor\n",
      "6.3 2.5 5.0 1.9 Iris-virginica\n",
      "4.6 3.2 1.4 0.2 Iris-setosa\n",
      "5.5 2.3 4.0 1.3 Iris-versicolor\n",
      "6.5 3.0 5.2 2.0 Iris-virginica\n",
      "5.3 3.7 1.5 0.2 Iris-setosa\n",
      "6.9 3.1 4.9 1.5 Iris-versicolor\n",
      "6.2 3.4 5.4 2.3 Iris-virginica\n",
      "5.0 3.3 1.4 0.2 Iris-setosa\n",
      "6.4 3.2 4.5 1.5 Iris-versicolor\n",
      "5.9 3.0 5.1 1.8 Iris-virginica\n",
      "5.2 4.1 1.5 0.1 Iris-setosa\n",
      "6.1 2.8 4.0 1.3 Iris-versicolor\n",
      "6.1 3.0 4.9 1.8 Iris-virginica\n",
      "5.5 4.2 1.4 0.2 Iris-setosa\n",
      "5.6 2.5 3.9 1.1 Iris-versicolor\n",
      "7.2 3.0 5.8 1.6 Iris-virginica\n",
      "4.9 3.1 1.5 0.1 Iris-setosa\n",
      "6.2 2.2 4.5 1.5 Iris-versicolor\n",
      "7.4 2.8 6.1 1.9 Iris-virginica\n",
      "5.0 3.2 1.2 0.2 Iris-setosa\n",
      "5.8 2.7 4.1 1.0 Iris-versicolor\n",
      "7.9 3.8 6.4 2.0 Iris-virginica\n",
      "5.5 3.5 1.3 0.2 Iris-setosa\n",
      "6.2 2.9 4.3 1.3 Iris-versicolor\n",
      "6.4 2.8 5.6 2.2 Iris-virginica\n",
      "4.9 3.1 1.5 0.1 Iris-setosa\n",
      "5.7 2.9 4.2 1.3 Iris-versicolor\n",
      "6.3 2.8 5.1 1.5 Iris-virginica\n",
      "4.4 2.9 1.4 0.2 Iris-setosa\n",
      "5.7 3.0 4.2 1.2 Iris-versicolor\n",
      "5.7 2.5 5.0 2.0 Iris-virginica\n",
      "4.9 3.1 1.5 0.1 Iris-setosa\n",
      "5.6 2.7 4.2 1.3 Iris-versicolor\n",
      "5.8 2.8 5.1 2.4 Iris-virginica\n",
      "5.4 3.7 1.5 0.2 Iris-setosa\n",
      "5.0 2.3 3.3 1.0 Iris-versicolor\n",
      "6.4 3.2 5.3 2.3 Iris-virginica\n",
      "4.8 3.4 1.6 0.2 Iris-setosa\n",
      "6.8 2.8 4.8 1.4 Iris-versicolor\n",
      "6.5 3.0 5.5 1.8 Iris-virginica\n",
      "4.8 3.0 1.4 0.1 Iris-setosa\n",
      "6.6 3.0 4.4 1.4 Iris-versicolor\n",
      "7.7 3.8 6.7 2.2 Iris-virginica\n",
      "4.3 3.0 1.1 0.1 Iris-setosa\n",
      "6.4 2.9 4.3 1.3 Iris-versicolor\n",
      "7.7 2.6 6.9 2.3 Iris-virginica\n",
      "5.8 4.0 1.2 0.2 Iris-setosa\n",
      "6.1 2.8 4.7 1.2 Iris-versicolor\n",
      "6.9 3.1 5.1 2.3 Iris-virginica\n",
      "5.7 4.4 1.5 0.4 Iris-setosa\n",
      "5.9 3.2 4.8 1.8 Iris-versicolor\n",
      "6.4 2.8 5.6 2.1 Iris-virginica\n",
      "5.4 3.9 1.3 0.4 Iris-setosa\n",
      "6.3 2.5 4.9 1.5 Iris-versicolor\n",
      "5.8 2.7 5.1 1.9 Iris-virginica"
     ]
    }
   ],
   "source": [
    "with open('dataset.txt', 'r') as arq:\n",
    "    for linha in arq.readlines():\n",
    "        print(linha, end='')"
   ]
  },
  {
   "cell_type": "code",
   "execution_count": 98,
   "metadata": {},
   "outputs": [
    {
     "name": "stdout",
     "output_type": "stream",
     "text": [
      "5.1 3.5 1.4 0.2 Iris-setosa\n",
      "7.0 3.2 4.7 1.4 Iris-versicolor\n",
      "6.3 3.3 6.0 2.5 Iris-virginica\n",
      "4.9 3.0 1.4 0.2 Iris-setosa\n",
      "5.7 2.8 4.1 1.3 Iris-versicolor\n",
      "5.8 2.7 5.1 1.9 Iris-virginica\n",
      "4.7 3.2 1.3 0.2 Iris-setosa\n",
      "5.1 2.5 3.0 1.1 Iris-versicolor\n",
      "7.1 3.0 5.9 2.1 Iris-virginica\n",
      "4.6 3.1 1.5 0.2 Iris-setosa\n",
      "5.8 2.6 4.0 1.2 Iris-versicolor\n",
      "6.3 2.9 5.6 1.8 Iris-virginica\n",
      "5.0 3.6 1.4 0.2 Iris-setosa\n",
      "6.1 3.0 4.6 1.4 Iris-versicolor\n",
      "6.5 3.0 5.8 2.2 Iris-virginica\n",
      "5.4 3.9 1.7 0.4 Iris-setosa\n",
      "5.5 2.6 4.4 1.2 Iris-versicolor\n",
      "7.6 3.0 6.6 2.1 Iris-virginica\n",
      "4.6 3.4 1.4 0.3 Iris-setosa\n",
      "5.5 2.5 4.0 1.3 Iris-versicolor\n",
      "4.9 2.5 4.5 1.7 Iris-virginica\n",
      "5.0 3.4 1.5 0.2 Iris-setosa\n",
      "5.6 3.0 4.1 1.3 Iris-versicolor\n",
      "7.3 2.9 6.3 1.8 Iris-virginica\n",
      "5.1 3.5 1.4 0.3 Iris-setosa\n",
      "6.3 2.3 4.4 1.3 Iris-versicolor\n",
      "6.7 2.5 5.8 1.8 Iris-virginica\n",
      "5.7 3.8 1.7 0.3 Iris-setosa\n",
      "6.7 3.1 4.7 1.5 Iris-versicolor\n",
      "7.2 3.6 6.1 2.5 Iris-virginica\n",
      "5.1 3.8 1.5 0.3 Iris-setosa\n",
      "6.0 3.4 4.5 1.6 Iris-versicolor\n",
      "6.5 3.2 5.1 2.0 Iris-virginica\n",
      "5.4 3.4 1.7 0.2 Iris-setosa\n",
      "5.4 3.0 4.5 1.5 Iris-versicolor\n",
      "6.4 2.7 5.3 1.9 Iris-virginica\n",
      "5.1 3.7 1.5 0.4 Iris-setosa\n",
      "6.0 2.7 5.1 1.6 Iris-versicolor\n",
      "6.8 3.0 5.5 2.1 Iris-virginica\n",
      "4.6 3.6 1.0 0.2 Iris-setosa\n",
      "5.8 2.7 3.9 1.2 Iris-versicolor\n",
      "6.0 2.2 5.0 1.5 Iris-virginica\n",
      "5.1 3.3 1.7 0.5 Iris-setosa\n",
      "5.5 2.4 3.7 1.0 Iris-versicolor\n",
      "6.9 3.2 5.7 2.3 Iris-virginica\n",
      "4.8 3.4 1.9 0.2 Iris-setosa\n",
      "5.5 2.4 3.8 1.1 Iris-versicolor\n",
      "5.6 2.8 4.9 2.0 Iris-virginica\n",
      "5.0 3.0 1.6 0.2 Iris-setosa\n",
      "5.7 2.6 3.5 1.0 Iris-versicolor\n",
      "7.7 2.8 6.7 2.0 Iris-virginica\n",
      "5.0 3.4 1.6 0.4 Iris-setosa\n",
      "6.0 2.9 4.5 1.5 Iris-versicolor\n",
      "6.3 2.7 4.9 1.8 Iris-virginica\n",
      "5.2 3.5 1.5 0.2 Iris-setosa\n",
      "6.7 3.0 5.0 1.7 Iris-versicolor\n",
      "6.7 3.3 5.7 2.1 Iris-virginica\n",
      "5.2 3.4 1.4 0.2 Iris-setosa\n",
      "5.6 3.0 4.5 1.5 Iris-versicolor\n",
      "7.2 3.2 6.0 1.8 Iris-virginica\n",
      "4.7 3.2 1.6 0.2 Iris-setosa\n",
      "6.7 3.1 4.4 1.4 Iris-versicolor\n",
      "6.2 2.8 4.8 1.8 Iris-virginica\n",
      "4.8 3.1 1.6 0.2 Iris-setosa\n",
      "5.6 2.9 3.6 1.3 Iris-versicolor\n",
      "6.1 2.6 5.6 1.4 Iris-virginica\n",
      "5.4 3.4 1.5 0.4 Iris-setosa\n",
      "6.1 2.9 4.7 1.4 Iris-versicolor\n",
      "7.7 3.0 6.1 2.3 Iris-virginica\n",
      "4.4 3.0 1.3 0.2 Iris-setosa\n",
      "6.0 2.2 4.0 1.0 Iris-versicolor\n",
      "6.3 3.4 5.6 2.4 Iris-virginica\n",
      "5.1 3.4 1.5 0.2 Iris-setosa\n",
      "5.9 3.0 4.2 1.5 Iris-versicolor\n",
      "6.4 3.1 5.5 1.8 Iris-virginica\n",
      "5.0 3.5 1.3 0.3 Iris-setosa\n",
      "5.0 2.0 3.5 1.0 Iris-versicolor\n",
      "6.0 3.0 4.8 1.8 Iris-virginica\n",
      "4.5 2.3 1.3 0.3 Iris-setosa\n",
      "5.2 2.7 3.9 1.4 Iris-versicolor\n",
      "6.9 3.1 5.4 2.1 Iris-virginica\n",
      "4.4 3.2 1.3 0.2 Iris-setosa\n",
      "6.6 2.9 4.6 1.3 Iris-versicolor\n",
      "6.7 3.1 5.6 2.4 Iris-virginica\n",
      "5.0 3.5 1.6 0.6 Iris-setosa\n",
      "4.9 2.4 3.3 1.0 Iris-versicolor\n",
      "6.8 3.2 5.9 2.3 Iris-virginica\n",
      "5.1 3.8 1.9 0.4 Iris-setosa\n",
      "6.3 3.3 4.7 1.6 Iris-versicolor\n",
      "6.7 3.3 5.7 2.5 Iris-virginica\n",
      "4.8 3.0 1.4 0.3 Iris-setosa\n",
      "5.7 2.8 4.5 1.3 Iris-versicolor\n",
      "6.7 3.0 5.2 2.3 Iris-virginica\n",
      "5.1 3.8 1.6 0.2 Iris-setosa\n",
      "6.5 2.8 4.6 1.5 Iris-versicolor\n",
      "6.3 2.5 5.0 1.9 Iris-virginica\n",
      "4.6 3.2 1.4 0.2 Iris-setosa\n",
      "5.5 2.3 4.0 1.3 Iris-versicolor\n",
      "6.5 3.0 5.2 2.0 Iris-virginica\n",
      "5.3 3.7 1.5 0.2 Iris-setosa\n",
      "6.9 3.1 4.9 1.5 Iris-versicolor\n",
      "6.2 3.4 5.4 2.3 Iris-virginica\n",
      "5.0 3.3 1.4 0.2 Iris-setosa\n",
      "6.4 3.2 4.5 1.5 Iris-versicolor\n",
      "5.9 3.0 5.1 1.8 Iris-virginica\n",
      "5.2 4.1 1.5 0.1 Iris-setosa\n",
      "6.1 2.8 4.0 1.3 Iris-versicolor\n",
      "6.1 3.0 4.9 1.8 Iris-virginica\n",
      "5.5 4.2 1.4 0.2 Iris-setosa\n",
      "5.6 2.5 3.9 1.1 Iris-versicolor\n",
      "7.2 3.0 5.8 1.6 Iris-virginica\n",
      "4.9 3.1 1.5 0.1 Iris-setosa\n",
      "6.2 2.2 4.5 1.5 Iris-versicolor\n",
      "7.4 2.8 6.1 1.9 Iris-virginica\n",
      "5.0 3.2 1.2 0.2 Iris-setosa\n",
      "5.8 2.7 4.1 1.0 Iris-versicolor\n",
      "7.9 3.8 6.4 2.0 Iris-virginica\n",
      "5.5 3.5 1.3 0.2 Iris-setosa\n",
      "6.2 2.9 4.3 1.3 Iris-versicolor\n",
      "6.4 2.8 5.6 2.2 Iris-virginica\n",
      "4.9 3.1 1.5 0.1 Iris-setosa\n",
      "5.7 2.9 4.2 1.3 Iris-versicolor\n",
      "6.3 2.8 5.1 1.5 Iris-virginica\n",
      "4.4 2.9 1.4 0.2 Iris-setosa\n",
      "5.7 3.0 4.2 1.2 Iris-versicolor\n",
      "5.7 2.5 5.0 2.0 Iris-virginica\n",
      "4.9 3.1 1.5 0.1 Iris-setosa\n",
      "5.6 2.7 4.2 1.3 Iris-versicolor\n",
      "5.8 2.8 5.1 2.4 Iris-virginica\n",
      "5.4 3.7 1.5 0.2 Iris-setosa\n",
      "5.0 2.3 3.3 1.0 Iris-versicolor\n",
      "6.4 3.2 5.3 2.3 Iris-virginica\n",
      "4.8 3.4 1.6 0.2 Iris-setosa\n",
      "6.8 2.8 4.8 1.4 Iris-versicolor\n",
      "6.5 3.0 5.5 1.8 Iris-virginica\n",
      "4.8 3.0 1.4 0.1 Iris-setosa\n",
      "6.6 3.0 4.4 1.4 Iris-versicolor\n",
      "7.7 3.8 6.7 2.2 Iris-virginica\n",
      "4.3 3.0 1.1 0.1 Iris-setosa\n",
      "6.4 2.9 4.3 1.3 Iris-versicolor\n",
      "7.7 2.6 6.9 2.3 Iris-virginica\n",
      "5.8 4.0 1.2 0.2 Iris-setosa\n",
      "6.1 2.8 4.7 1.2 Iris-versicolor\n",
      "6.9 3.1 5.1 2.3 Iris-virginica\n",
      "5.7 4.4 1.5 0.4 Iris-setosa\n",
      "5.9 3.2 4.8 1.8 Iris-versicolor\n",
      "6.4 2.8 5.6 2.1 Iris-virginica\n",
      "5.4 3.9 1.3 0.4 Iris-setosa\n",
      "6.3 2.5 4.9 1.5 Iris-versicolor\n",
      "5.8 2.7 5.1 1.9 Iris-virginica\n"
     ]
    }
   ],
   "source": [
    "with open('dataset.txt', 'r') as arq:\n",
    "    conteudo = arq.read()\n",
    "    print(conteudo)"
   ]
  },
  {
   "cell_type": "code",
   "execution_count": 99,
   "metadata": {},
   "outputs": [
    {
     "name": "stdout",
     "output_type": "stream",
     "text": [
      "5.1 3.5 1.4 0.2 Iris-setosa\n",
      "150\n"
     ]
    }
   ],
   "source": [
    "with open('dataset.txt', 'r') as arq:\n",
    "#    for linha in arq.readlines():\n",
    "#        print(linha)\n",
    "## ou\n",
    "#    conteudo = arq.read()\n",
    "#    print(conteudo)\n",
    "## ou\n",
    "    lista = arq.read().splitlines()\n",
    "    print(lista[0])\n",
    "\n",
    "print(len(lista))"
   ]
  },
  {
   "cell_type": "markdown",
   "metadata": {},
   "source": [
    "# Aprendendo python - OO"
   ]
  },
  {
   "cell_type": "code",
   "execution_count": 103,
   "metadata": {},
   "outputs": [
    {
     "data": {
      "text/plain": [
       "str"
      ]
     },
     "execution_count": 103,
     "metadata": {},
     "output_type": "execute_result"
    }
   ],
   "source": [
    "type('python')"
   ]
  },
  {
   "cell_type": "code",
   "execution_count": 104,
   "metadata": {},
   "outputs": [
    {
     "name": "stdout",
     "output_type": "stream",
     "text": [
      "Help on class str in module builtins:\n",
      "\n",
      "class str(object)\n",
      " |  str(object='') -> str\n",
      " |  str(bytes_or_buffer[, encoding[, errors]]) -> str\n",
      " |  \n",
      " |  Create a new string object from the given object. If encoding or\n",
      " |  errors is specified, then the object must expose a data buffer\n",
      " |  that will be decoded using the given encoding and error handler.\n",
      " |  Otherwise, returns the result of object.__str__() (if defined)\n",
      " |  or repr(object).\n",
      " |  encoding defaults to sys.getdefaultencoding().\n",
      " |  errors defaults to 'strict'.\n",
      " |  \n",
      " |  Methods defined here:\n",
      " |  \n",
      " |  __add__(self, value, /)\n",
      " |      Return self+value.\n",
      " |  \n",
      " |  __contains__(self, key, /)\n",
      " |      Return key in self.\n",
      " |  \n",
      " |  __eq__(self, value, /)\n",
      " |      Return self==value.\n",
      " |  \n",
      " |  __format__(self, format_spec, /)\n",
      " |      Return a formatted version of the string as described by format_spec.\n",
      " |  \n",
      " |  __ge__(self, value, /)\n",
      " |      Return self>=value.\n",
      " |  \n",
      " |  __getattribute__(self, name, /)\n",
      " |      Return getattr(self, name).\n",
      " |  \n",
      " |  __getitem__(self, key, /)\n",
      " |      Return self[key].\n",
      " |  \n",
      " |  __getnewargs__(...)\n",
      " |  \n",
      " |  __gt__(self, value, /)\n",
      " |      Return self>value.\n",
      " |  \n",
      " |  __hash__(self, /)\n",
      " |      Return hash(self).\n",
      " |  \n",
      " |  __iter__(self, /)\n",
      " |      Implement iter(self).\n",
      " |  \n",
      " |  __le__(self, value, /)\n",
      " |      Return self<=value.\n",
      " |  \n",
      " |  __len__(self, /)\n",
      " |      Return len(self).\n",
      " |  \n",
      " |  __lt__(self, value, /)\n",
      " |      Return self<value.\n",
      " |  \n",
      " |  __mod__(self, value, /)\n",
      " |      Return self%value.\n",
      " |  \n",
      " |  __mul__(self, value, /)\n",
      " |      Return self*value.\n",
      " |  \n",
      " |  __ne__(self, value, /)\n",
      " |      Return self!=value.\n",
      " |  \n",
      " |  __repr__(self, /)\n",
      " |      Return repr(self).\n",
      " |  \n",
      " |  __rmod__(self, value, /)\n",
      " |      Return value%self.\n",
      " |  \n",
      " |  __rmul__(self, value, /)\n",
      " |      Return value*self.\n",
      " |  \n",
      " |  __sizeof__(self, /)\n",
      " |      Return the size of the string in memory, in bytes.\n",
      " |  \n",
      " |  __str__(self, /)\n",
      " |      Return str(self).\n",
      " |  \n",
      " |  capitalize(self, /)\n",
      " |      Return a capitalized version of the string.\n",
      " |      \n",
      " |      More specifically, make the first character have upper case and the rest lower\n",
      " |      case.\n",
      " |  \n",
      " |  casefold(self, /)\n",
      " |      Return a version of the string suitable for caseless comparisons.\n",
      " |  \n",
      " |  center(self, width, fillchar=' ', /)\n",
      " |      Return a centered string of length width.\n",
      " |      \n",
      " |      Padding is done using the specified fill character (default is a space).\n",
      " |  \n",
      " |  count(...)\n",
      " |      S.count(sub[, start[, end]]) -> int\n",
      " |      \n",
      " |      Return the number of non-overlapping occurrences of substring sub in\n",
      " |      string S[start:end].  Optional arguments start and end are\n",
      " |      interpreted as in slice notation.\n",
      " |  \n",
      " |  encode(self, /, encoding='utf-8', errors='strict')\n",
      " |      Encode the string using the codec registered for encoding.\n",
      " |      \n",
      " |      encoding\n",
      " |        The encoding in which to encode the string.\n",
      " |      errors\n",
      " |        The error handling scheme to use for encoding errors.\n",
      " |        The default is 'strict' meaning that encoding errors raise a\n",
      " |        UnicodeEncodeError.  Other possible values are 'ignore', 'replace' and\n",
      " |        'xmlcharrefreplace' as well as any other name registered with\n",
      " |        codecs.register_error that can handle UnicodeEncodeErrors.\n",
      " |  \n",
      " |  endswith(...)\n",
      " |      S.endswith(suffix[, start[, end]]) -> bool\n",
      " |      \n",
      " |      Return True if S ends with the specified suffix, False otherwise.\n",
      " |      With optional start, test S beginning at that position.\n",
      " |      With optional end, stop comparing S at that position.\n",
      " |      suffix can also be a tuple of strings to try.\n",
      " |  \n",
      " |  expandtabs(self, /, tabsize=8)\n",
      " |      Return a copy where all tab characters are expanded using spaces.\n",
      " |      \n",
      " |      If tabsize is not given, a tab size of 8 characters is assumed.\n",
      " |  \n",
      " |  find(...)\n",
      " |      S.find(sub[, start[, end]]) -> int\n",
      " |      \n",
      " |      Return the lowest index in S where substring sub is found,\n",
      " |      such that sub is contained within S[start:end].  Optional\n",
      " |      arguments start and end are interpreted as in slice notation.\n",
      " |      \n",
      " |      Return -1 on failure.\n",
      " |  \n",
      " |  format(...)\n",
      " |      S.format(*args, **kwargs) -> str\n",
      " |      \n",
      " |      Return a formatted version of S, using substitutions from args and kwargs.\n",
      " |      The substitutions are identified by braces ('{' and '}').\n",
      " |  \n",
      " |  format_map(...)\n",
      " |      S.format_map(mapping) -> str\n",
      " |      \n",
      " |      Return a formatted version of S, using substitutions from mapping.\n",
      " |      The substitutions are identified by braces ('{' and '}').\n",
      " |  \n",
      " |  index(...)\n",
      " |      S.index(sub[, start[, end]]) -> int\n",
      " |      \n",
      " |      Return the lowest index in S where substring sub is found, \n",
      " |      such that sub is contained within S[start:end].  Optional\n",
      " |      arguments start and end are interpreted as in slice notation.\n",
      " |      \n",
      " |      Raises ValueError when the substring is not found.\n",
      " |  \n",
      " |  isalnum(self, /)\n",
      " |      Return True if the string is an alpha-numeric string, False otherwise.\n",
      " |      \n",
      " |      A string is alpha-numeric if all characters in the string are alpha-numeric and\n",
      " |      there is at least one character in the string.\n",
      " |  \n",
      " |  isalpha(self, /)\n",
      " |      Return True if the string is an alphabetic string, False otherwise.\n",
      " |      \n",
      " |      A string is alphabetic if all characters in the string are alphabetic and there\n",
      " |      is at least one character in the string.\n",
      " |  \n",
      " |  isascii(self, /)\n",
      " |      Return True if all characters in the string are ASCII, False otherwise.\n",
      " |      \n",
      " |      ASCII characters have code points in the range U+0000-U+007F.\n",
      " |      Empty string is ASCII too.\n",
      " |  \n",
      " |  isdecimal(self, /)\n",
      " |      Return True if the string is a decimal string, False otherwise.\n",
      " |      \n",
      " |      A string is a decimal string if all characters in the string are decimal and\n",
      " |      there is at least one character in the string.\n",
      " |  \n",
      " |  isdigit(self, /)\n",
      " |      Return True if the string is a digit string, False otherwise.\n",
      " |      \n",
      " |      A string is a digit string if all characters in the string are digits and there\n",
      " |      is at least one character in the string.\n",
      " |  \n",
      " |  isidentifier(self, /)\n",
      " |      Return True if the string is a valid Python identifier, False otherwise.\n",
      " |      \n",
      " |      Use keyword.iskeyword() to test for reserved identifiers such as \"def\" and\n",
      " |      \"class\".\n",
      " |  \n",
      " |  islower(self, /)\n",
      " |      Return True if the string is a lowercase string, False otherwise.\n",
      " |      \n",
      " |      A string is lowercase if all cased characters in the string are lowercase and\n",
      " |      there is at least one cased character in the string.\n",
      " |  \n",
      " |  isnumeric(self, /)\n",
      " |      Return True if the string is a numeric string, False otherwise.\n",
      " |      \n",
      " |      A string is numeric if all characters in the string are numeric and there is at\n",
      " |      least one character in the string.\n",
      " |  \n",
      " |  isprintable(self, /)\n",
      " |      Return True if the string is printable, False otherwise.\n",
      " |      \n",
      " |      A string is printable if all of its characters are considered printable in\n",
      " |      repr() or if it is empty.\n",
      " |  \n",
      " |  isspace(self, /)\n",
      " |      Return True if the string is a whitespace string, False otherwise.\n",
      " |      \n",
      " |      A string is whitespace if all characters in the string are whitespace and there\n",
      " |      is at least one character in the string.\n",
      " |  \n",
      " |  istitle(self, /)\n",
      " |      Return True if the string is a title-cased string, False otherwise.\n",
      " |      \n",
      " |      In a title-cased string, upper- and title-case characters may only\n",
      " |      follow uncased characters and lowercase characters only cased ones.\n",
      " |  \n",
      " |  isupper(self, /)\n",
      " |      Return True if the string is an uppercase string, False otherwise.\n",
      " |      \n",
      " |      A string is uppercase if all cased characters in the string are uppercase and\n",
      " |      there is at least one cased character in the string.\n",
      " |  \n",
      " |  join(self, iterable, /)\n",
      " |      Concatenate any number of strings.\n",
      " |      \n",
      " |      The string whose method is called is inserted in between each given string.\n",
      " |      The result is returned as a new string.\n",
      " |      \n",
      " |      Example: '.'.join(['ab', 'pq', 'rs']) -> 'ab.pq.rs'\n",
      " |  \n",
      " |  ljust(self, width, fillchar=' ', /)\n",
      " |      Return a left-justified string of length width.\n",
      " |      \n",
      " |      Padding is done using the specified fill character (default is a space).\n",
      " |  \n",
      " |  lower(self, /)\n",
      " |      Return a copy of the string converted to lowercase.\n",
      " |  \n",
      " |  lstrip(self, chars=None, /)\n",
      " |      Return a copy of the string with leading whitespace removed.\n",
      " |      \n",
      " |      If chars is given and not None, remove characters in chars instead.\n",
      " |  \n",
      " |  partition(self, sep, /)\n",
      " |      Partition the string into three parts using the given separator.\n",
      " |      \n",
      " |      This will search for the separator in the string.  If the separator is found,\n",
      " |      returns a 3-tuple containing the part before the separator, the separator\n",
      " |      itself, and the part after it.\n",
      " |      \n",
      " |      If the separator is not found, returns a 3-tuple containing the original string\n",
      " |      and two empty strings.\n",
      " |  \n",
      " |  replace(self, old, new, count=-1, /)\n",
      " |      Return a copy with all occurrences of substring old replaced by new.\n",
      " |      \n",
      " |        count\n",
      " |          Maximum number of occurrences to replace.\n",
      " |          -1 (the default value) means replace all occurrences.\n",
      " |      \n",
      " |      If the optional argument count is given, only the first count occurrences are\n",
      " |      replaced.\n",
      " |  \n",
      " |  rfind(...)\n",
      " |      S.rfind(sub[, start[, end]]) -> int\n",
      " |      \n",
      " |      Return the highest index in S where substring sub is found,\n",
      " |      such that sub is contained within S[start:end].  Optional\n",
      " |      arguments start and end are interpreted as in slice notation.\n",
      " |      \n",
      " |      Return -1 on failure.\n",
      " |  \n",
      " |  rindex(...)\n",
      " |      S.rindex(sub[, start[, end]]) -> int\n",
      " |      \n",
      " |      Return the highest index in S where substring sub is found,\n",
      " |      such that sub is contained within S[start:end].  Optional\n",
      " |      arguments start and end are interpreted as in slice notation.\n",
      " |      \n",
      " |      Raises ValueError when the substring is not found.\n",
      " |  \n",
      " |  rjust(self, width, fillchar=' ', /)\n",
      " |      Return a right-justified string of length width.\n",
      " |      \n",
      " |      Padding is done using the specified fill character (default is a space).\n",
      " |  \n",
      " |  rpartition(self, sep, /)\n",
      " |      Partition the string into three parts using the given separator.\n",
      " |      \n",
      " |      This will search for the separator in the string, starting at the end. If\n",
      " |      the separator is found, returns a 3-tuple containing the part before the\n",
      " |      separator, the separator itself, and the part after it.\n",
      " |      \n",
      " |      If the separator is not found, returns a 3-tuple containing two empty strings\n",
      " |      and the original string.\n",
      " |  \n",
      " |  rsplit(self, /, sep=None, maxsplit=-1)\n",
      " |      Return a list of the words in the string, using sep as the delimiter string.\n",
      " |      \n",
      " |        sep\n",
      " |          The delimiter according which to split the string.\n",
      " |          None (the default value) means split according to any whitespace,\n",
      " |          and discard empty strings from the result.\n",
      " |        maxsplit\n",
      " |          Maximum number of splits to do.\n",
      " |          -1 (the default value) means no limit.\n",
      " |      \n",
      " |      Splits are done starting at the end of the string and working to the front.\n",
      " |  \n",
      " |  rstrip(self, chars=None, /)\n",
      " |      Return a copy of the string with trailing whitespace removed.\n",
      " |      \n",
      " |      If chars is given and not None, remove characters in chars instead.\n",
      " |  \n",
      " |  split(self, /, sep=None, maxsplit=-1)\n",
      " |      Return a list of the words in the string, using sep as the delimiter string.\n",
      " |      \n",
      " |      sep\n",
      " |        The delimiter according which to split the string.\n",
      " |        None (the default value) means split according to any whitespace,\n",
      " |        and discard empty strings from the result.\n",
      " |      maxsplit\n",
      " |        Maximum number of splits to do.\n",
      " |        -1 (the default value) means no limit.\n",
      " |  \n",
      " |  splitlines(self, /, keepends=False)\n",
      " |      Return a list of the lines in the string, breaking at line boundaries.\n",
      " |      \n",
      " |      Line breaks are not included in the resulting list unless keepends is given and\n",
      " |      true.\n",
      " |  \n",
      " |  startswith(...)\n",
      " |      S.startswith(prefix[, start[, end]]) -> bool\n",
      " |      \n",
      " |      Return True if S starts with the specified prefix, False otherwise.\n",
      " |      With optional start, test S beginning at that position.\n",
      " |      With optional end, stop comparing S at that position.\n",
      " |      prefix can also be a tuple of strings to try.\n",
      " |  \n",
      " |  strip(self, chars=None, /)\n",
      " |      Return a copy of the string with leading and trailing whitespace remove.\n",
      " |      \n",
      " |      If chars is given and not None, remove characters in chars instead.\n",
      " |  \n",
      " |  swapcase(self, /)\n",
      " |      Convert uppercase characters to lowercase and lowercase characters to uppercase.\n",
      " |  \n",
      " |  title(self, /)\n",
      " |      Return a version of the string where each word is titlecased.\n",
      " |      \n",
      " |      More specifically, words start with uppercased characters and all remaining\n",
      " |      cased characters have lower case.\n",
      " |  \n",
      " |  translate(self, table, /)\n",
      " |      Replace each character in the string using the given translation table.\n",
      " |      \n",
      " |        table\n",
      " |          Translation table, which must be a mapping of Unicode ordinals to\n",
      " |          Unicode ordinals, strings, or None.\n",
      " |      \n",
      " |      The table must implement lookup/indexing via __getitem__, for instance a\n",
      " |      dictionary or list.  If this operation raises LookupError, the character is\n",
      " |      left untouched.  Characters mapped to None are deleted.\n",
      " |  \n",
      " |  upper(self, /)\n",
      " |      Return a copy of the string converted to uppercase.\n",
      " |  \n",
      " |  zfill(self, width, /)\n",
      " |      Pad a numeric string with zeros on the left, to fill a field of the given width.\n",
      " |      \n",
      " |      The string is never truncated.\n",
      " |  \n",
      " |  ----------------------------------------------------------------------\n",
      " |  Static methods defined here:\n",
      " |  \n",
      " |  __new__(*args, **kwargs) from builtins.type\n",
      " |      Create and return a new object.  See help(type) for accurate signature.\n",
      " |  \n",
      " |  maketrans(x, y=None, z=None, /)\n",
      " |      Return a translation table usable for str.translate().\n",
      " |      \n",
      " |      If there is only one argument, it must be a dictionary mapping Unicode\n",
      " |      ordinals (integers) or characters to Unicode ordinals, strings or None.\n",
      " |      Character keys will be then converted to ordinals.\n",
      " |      If there are two arguments, they must be strings of equal length, and\n",
      " |      in the resulting dictionary, each character in x will be mapped to the\n",
      " |      character at the same position in y. If there is a third argument, it\n",
      " |      must be a string, whose characters will be mapped to None in the result.\n",
      "\n"
     ]
    }
   ],
   "source": [
    "help(str)"
   ]
  },
  {
   "cell_type": "code",
   "execution_count": 105,
   "metadata": {},
   "outputs": [
    {
     "name": "stdout",
     "output_type": "stream",
     "text": [
      "<class '__main__.Pessoa'>\n",
      "anderson\n",
      "43\n",
      "anderson\n"
     ]
    }
   ],
   "source": [
    "class Pessoa:\n",
    "    def __init__(self, nome, idade):\n",
    "        self.nome = nome\n",
    "        self.idade = idade\n",
    "        \n",
    "    def imprimir_nome(self):\n",
    "        print(self.nome)\n",
    "        \n",
    "p = Pessoa('anderson', 43)\n",
    "print(type(p))\n",
    "print(p.nome)\n",
    "print(p.idade)\n",
    "p.imprimir_nome()"
   ]
  },
  {
   "cell_type": "code",
   "execution_count": 106,
   "metadata": {},
   "outputs": [
    {
     "name": "stdout",
     "output_type": "stream",
     "text": [
      "<class 'dict'>\n",
      "2\n",
      "2\n",
      "34\n"
     ]
    },
    {
     "data": {
      "text/plain": [
       "['__class__',\n",
       " '__contains__',\n",
       " '__delattr__',\n",
       " '__delitem__',\n",
       " '__dir__',\n",
       " '__doc__',\n",
       " '__eq__',\n",
       " '__format__',\n",
       " '__ge__',\n",
       " '__getattribute__',\n",
       " '__getitem__',\n",
       " '__gt__',\n",
       " '__hash__',\n",
       " '__init__',\n",
       " '__init_subclass__',\n",
       " '__iter__',\n",
       " '__le__',\n",
       " '__len__',\n",
       " '__lt__',\n",
       " '__ne__',\n",
       " '__new__',\n",
       " '__reduce__',\n",
       " '__reduce_ex__',\n",
       " '__repr__',\n",
       " '__setattr__',\n",
       " '__setitem__',\n",
       " '__sizeof__',\n",
       " '__str__',\n",
       " '__subclasshook__',\n",
       " 'clear',\n",
       " 'copy',\n",
       " 'fromkeys',\n",
       " 'get',\n",
       " 'items',\n",
       " 'keys',\n",
       " 'pop',\n",
       " 'popitem',\n",
       " 'setdefault',\n",
       " 'update',\n",
       " 'values']"
      ]
     },
     "execution_count": 106,
     "metadata": {},
     "output_type": "execute_result"
    }
   ],
   "source": [
    "d = {'anderson': 43, 'kamila': 34}\n",
    "print(type(d))\n",
    "print(d.__len__())\n",
    "print(len(d))\n",
    "print(d.get('kamila'))\n",
    "dir(d)"
   ]
  },
  {
   "cell_type": "code",
   "execution_count": 107,
   "metadata": {},
   "outputs": [
    {
     "name": "stdout",
     "output_type": "stream",
     "text": [
      "Anderson\n",
      "5000\n",
      "Kamila\n"
     ]
    }
   ],
   "source": [
    "class Conta:\n",
    "    def __init__(self, cliente, numero):\n",
    "        self.cliente = cliente\n",
    "        self.numero = numero\n",
    "        \n",
    "class ContaEspecial(Conta):\n",
    "    def __init__(self, cliente, numero, limite=0):\n",
    "        Conta.__init__(self, cliente, numero)\n",
    "        self.limite = limite\n",
    "\n",
    "cc = ContaEspecial('Anderson', 2171, 5000)\n",
    "print(cc.cliente)\n",
    "print(cc.limite)\n",
    "\n",
    "c1 = Conta('Kamila', 9971)\n",
    "print(c1.cliente)\n",
    "#print(c1.limite)"
   ]
  },
  {
   "cell_type": "markdown",
   "metadata": {},
   "source": [
    "# Aprendendo python - Programação Funcional"
   ]
  },
  {
   "cell_type": "code",
   "execution_count": 108,
   "metadata": {},
   "outputs": [
    {
     "data": {
      "text/plain": [
       "6"
      ]
     },
     "execution_count": 108,
     "metadata": {},
     "output_type": "execute_result"
    }
   ],
   "source": [
    "dobro = lambda x: x * 2\n",
    "dobro(3)"
   ]
  },
  {
   "cell_type": "code",
   "execution_count": 109,
   "metadata": {},
   "outputs": [
    {
     "data": {
      "text/plain": [
       "30"
      ]
     },
     "execution_count": 109,
     "metadata": {},
     "output_type": "execute_result"
    }
   ],
   "source": [
    "soma = lambda x, y: x + y\n",
    "soma(10, 20)"
   ]
  },
  {
   "cell_type": "code",
   "execution_count": 110,
   "metadata": {},
   "outputs": [
    {
     "name": "stdout",
     "output_type": "stream",
     "text": [
      "<filter object at 0x04A47B70>\n"
     ]
    },
    {
     "data": {
      "text/plain": [
       "[2, 4, 6, 8, 10]"
      ]
     },
     "execution_count": 110,
     "metadata": {},
     "output_type": "execute_result"
    }
   ],
   "source": [
    "lista = [1,2,3,4,5,6,7,8,9,10]\n",
    "print(filter(lambda x: x % 2 == 0, lista))\n",
    "list(filter(lambda x: x % 2 == 0, lista))"
   ]
  },
  {
   "cell_type": "code",
   "execution_count": 111,
   "metadata": {},
   "outputs": [
    {
     "data": {
      "text/plain": [
       "[2, 4, 6, 8, 10, 12, 14, 16, 18, 20]"
      ]
     },
     "execution_count": 111,
     "metadata": {},
     "output_type": "execute_result"
    }
   ],
   "source": [
    "list(map(lambda x: x * 2, lista))"
   ]
  }
 ],
 "metadata": {
  "kernelspec": {
   "display_name": "Python 3",
   "language": "python",
   "name": "python3"
  },
  "language_info": {
   "codemirror_mode": {
    "name": "ipython",
    "version": 3
   },
   "file_extension": ".py",
   "mimetype": "text/x-python",
   "name": "python",
   "nbconvert_exporter": "python",
   "pygments_lexer": "ipython3",
   "version": "3.7.3"
  }
 },
 "nbformat": 4,
 "nbformat_minor": 2
}
